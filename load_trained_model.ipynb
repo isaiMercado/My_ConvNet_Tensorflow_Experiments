{
 "cells": [
  {
   "cell_type": "code",
   "execution_count": 1,
   "metadata": {
    "collapsed": false
   },
   "outputs": [
    {
     "name": "stderr",
     "output_type": "stream",
     "text": [
      "/home/isai/anaconda2/lib/python2.7/site-packages/matplotlib/font_manager.py:273: UserWarning: Matplotlib is building the font cache using fc-list. This may take a moment.\n",
      "  warnings.warn('Matplotlib is building the font cache using fc-list. This may take a moment.')\n"
     ]
    }
   ],
   "source": [
    "import tensorflow as tf\n",
    "from tensorflow.examples.tutorials.mnist import input_data\n",
    "\n",
    "import numpy as np\n",
    "import matplotlib.pyplot as plt\n",
    "import matplotlib\n",
    "%matplotlib inline"
   ]
  },
  {
   "cell_type": "code",
   "execution_count": 2,
   "metadata": {
    "collapsed": false
   },
   "outputs": [
    {
     "name": "stdout",
     "output_type": "stream",
     "text": [
      "Extracting MNIST_data/train-images-idx3-ubyte.gz\n",
      "Extracting MNIST_data/train-labels-idx1-ubyte.gz\n",
      "Extracting MNIST_data/t10k-images-idx3-ubyte.gz\n",
      "Extracting MNIST_data/t10k-labels-idx1-ubyte.gz\n"
     ]
    }
   ],
   "source": [
    "mnist = input_data.read_data_sets('MNIST_data', one_hot=True)"
   ]
  },
  {
   "cell_type": "code",
   "execution_count": 3,
   "metadata": {
    "collapsed": false
   },
   "outputs": [],
   "source": [
    "TESTS = 1000\n",
    "\n",
    "# x and y coordinates to plot \n",
    "x_coordinates = np.linspace(0, TESTS, num=TESTS)\n",
    "loss_y_coordinates = np.zeros(TESTS)\n",
    "accuracy_y_coordinates = np.zeros(TESTS)\n",
    "\n",
    "def plot(x, y, limits, title, x_label_name, y_label_name):\n",
    "    plt.close(\"all\")\n",
    "    figure = plt.figure()\n",
    "    figure.clf()\n",
    "    \n",
    "    plt.plot(x, y)\n",
    "    \n",
    "    #plt.axis(limits)\n",
    "    plt.ylabel(y_label_name)\n",
    "    plt.xlabel(x_label_name)\n",
    "\n",
    "    figure.suptitle(title, fontsize=20)\n",
    "    plt.legend(loc='upper right')\n",
    "    \n",
    "    plt.show()\n",
    "    return\n",
    "\n",
    "def scatter(x, y, limits, title, x_label_name, y_label_name):\n",
    "    plt.close(\"all\")\n",
    "    figure = plt.figure()\n",
    "    figure.clf()\n",
    "    \n",
    "    plt.scatter(x, y)\n",
    "    \n",
    "    #plt.axis(limits)\n",
    "    plt.ylabel(y_label_name)\n",
    "    plt.xlabel(x_label_name)\n",
    "\n",
    "    figure.suptitle(title, fontsize=20)\n",
    "    plt.legend(loc='upper right')\n",
    "    \n",
    "    plt.show()\n",
    "    return\n",
    "\n",
    "def plot_cross_entropy():\n",
    "    limits = [0,None,0,5]\n",
    "    plot(x_coordinates, loss_y_coordinates, limits, \"Validation Set Cross Entropy\", \"Validation Images\", \"Entropy\")  \n",
    "    return\n",
    "\n",
    "def plot_accuracy():\n",
    "    limits = [0,None,0,1]\n",
    "    scatter(x_coordinates, accuracy_y_coordinates, limits, \"Validation Set Accuracy\", \"Validation Images\", \"Accuracy\")\n",
    "    return"
   ]
  },
  {
   "cell_type": "code",
   "execution_count": 4,
   "metadata": {
    "collapsed": false
   },
   "outputs": [],
   "source": [
    "trained_graph_path = \"./TrainedModel_ConvNet/trained_graph.pb\"\n",
    "\n",
    "with tf.Graph().as_default() as this_graph:\n",
    "    trained_graph = tf.GraphDef()\n",
    "    with open(trained_graph_path, \"rb\") as f:\n",
    "        trained_graph.ParseFromString(f.read())\n",
    "        tf.import_graph_def(trained_graph, name=\"\")\n",
    "\n",
    "    with tf.Session() as sess:\n",
    "       \n",
    "        for test in range(TESTS):\n",
    "            features = mnist.validation.images[test].reshape((1,784))\n",
    "            target = mnist.validation.labels[test].reshape((1,10))\n",
    "\n",
    "            predictions_vector = sess.graph.get_tensor_by_name(\"fully_connected_output/output_node:0\")\n",
    "            prediction = sess.run(predictions_vector, feed_dict={\"features_matrix:0\": features})\n",
    "            accuracy = np.argmax(target) == np.argmax(prediction)\n",
    "            accuracy_y_coordinates[test] = accuracy  \n",
    "            \n",
    "        tf.merge_all_summaries()\n",
    "        tf.train.SummaryWriter('./TensorBoard_ConvNet/After_Serialization',graph=this_graph)"
   ]
  },
  {
   "cell_type": "code",
   "execution_count": 5,
   "metadata": {
    "collapsed": false
   },
   "outputs": [
    {
     "name": "stderr",
     "output_type": "stream",
     "text": [
      "/home/isai/anaconda2/lib/python2.7/site-packages/matplotlib/axes/_axes.py:519: UserWarning: No labelled objects found. Use label='...' kwarg on individual plots.\n",
      "  warnings.warn(\"No labelled objects found. \"\n"
     ]
    },
    {
     "data": {
      "image/png": "[encoded data removed]",
      "text/plain": [
       "<matplotlib.figure.Figure at 0x7fca62961290>"
      ]
     },
     "metadata": {},
     "output_type": "display_data"
    }
   ],
   "source": [
    "plot_accuracy()"
   ]
  },
  {
   "cell_type": "code",
   "execution_count": 6,
   "metadata": {
    "collapsed": false
   },
   "outputs": [
    {
     "name": "stdout",
     "output_type": "stream",
     "text": [
      "Test Set Mean Accuracy\n",
      "0.972\n"
     ]
    }
   ],
   "source": [
    "mean_accuracy = np.mean(accuracy_y_coordinates)\n",
    "\n",
    "print(\"Test Set Mean Accuracy\")\n",
    "print(mean_accuracy)"
   ]
  },
  {
   "cell_type": "code",
   "execution_count": null,
   "metadata": {
    "collapsed": true
   },
   "outputs": [],
   "source": []
  }
 ],
 "metadata": {
  "kernelspec": {
   "display_name": "Python 2",
   "language": "python",
   "name": "python2"
  },
  "language_info": {
   "codemirror_mode": {
    "name": "ipython",
    "version": 2
   },
   "file_extension": ".py",
   "mimetype": "text/x-python",
   "name": "python",
   "nbconvert_exporter": "python",
   "pygments_lexer": "ipython2",
   "version": "2.7.12"
  }
 },
 "nbformat": 4,
 "nbformat_minor": 0
}
