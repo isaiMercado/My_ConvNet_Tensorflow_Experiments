{
 "cells": [
  {
   "cell_type": "code",
   "execution_count": 1,
   "metadata": {
    "collapsed": true
   },
   "outputs": [],
   "source": [
    "from PIL import Image\n",
    "\n",
    "import tensorflow as tf\n",
    "from random import uniform\n",
    "\n",
    "import numpy as np\n",
    "import matplotlib.pyplot as plt\n",
    "import matplotlib\n",
    "#%matplotlib inline\n",
    "\n",
    "import glob\n",
    "import scipy\n",
    "import scipy.misc\n",
    "from scipy import ndimage\n",
    "from scipy.misc import toimage\n",
    "from enum import Enum\n",
    "from sklearn.utils import shuffle\n",
    "import ntpath\n",
    "\n",
    "import os\n",
    "\n",
    "np.set_printoptions(threshold=np.inf)"
   ]
  },
  {
   "cell_type": "code",
   "execution_count": 2,
   "metadata": {
    "collapsed": true
   },
   "outputs": [],
   "source": [
    "# These global variables define the desire size that pictures\n",
    "# will be resized to\n",
    "WIDTH = 64\n",
    "HEIGHT = 64\n",
    "DEPTH = 3\n",
    "\n",
    "# How many images with random rotations do you want to produce\n",
    "# per photo\n",
    "IMAGE_GENERATION = 10 #10\n",
    "ROTATION_DEGREES = 30\n",
    "\n",
    "# these variables will be numpy arrays to calculate the global\n",
    "# mean and global std once all images have been processed for \n",
    "# the classifier\n",
    "means = None\n",
    "stds = None"
   ]
  },
  {
   "cell_type": "code",
   "execution_count": 3,
   "metadata": {
    "collapsed": false
   },
   "outputs": [],
   "source": [
    "# This function is not being used in this version of the code\n",
    "# but it returns an image with the edges of the photo\n",
    "# so that the classifier might be trained to look for edges\n",
    "# rather than colors\n",
    "def gradient_of_image(image):\n",
    "    \n",
    "    # This filten makes edges wider \n",
    "    image = ndimage.gaussian_filter(image, 5)\n",
    "    \n",
    "    # This process makes the background black\n",
    "    image = image - np.mean(image)\n",
    "    image = image / np.std(image)\n",
    "    \n",
    "    # Taking derivatives\n",
    "    dx = ndimage.sobel(image, axis=0)#ndimage.sobel(image, axis=0)\n",
    "    dy = ndimage.sobel(image, axis=1)\n",
    "    image = np.hypot(dx, dy)\n",
    "    \n",
    "    # For some reason we need to save the image to disk to get a nice picture\n",
    "    scipy.misc.imsave('sobel.jpg', image)\n",
    "    image = scipy.misc.imread(\"sobel.jpg\")\n",
    "    \n",
    "    return image"
   ]
  },
  {
   "cell_type": "code",
   "execution_count": 4,
   "metadata": {
    "collapsed": true
   },
   "outputs": [],
   "source": [
    "# This function is not being used in this version\n",
    "# I was thinking on using it to make the range between\n",
    "# background and edge greater so that the classifier \n",
    "# learns the edges more easily\n",
    "def sharpen_image(image):\n",
    "    #blurred_image = ndimage.gaussian_filter(image, 2)\n",
    "    #filter_blurred = ndimage.gaussian_filter(blurred_image, 1)\n",
    "    #alpha =0 #30\n",
    "    #sharpened_image = (blurred_image + alpha) * (blurred_image - filter_blurred)\n",
    "    threshold = 25\n",
    "    sharpened_image = image\n",
    "    sharpened_image[sharpened_image > threshold] = 250\n",
    "    sharpened_image[sharpened_image <= threshold] = 0\n",
    "    return sharpened_image"
   ]
  },
  {
   "cell_type": "code",
   "execution_count": 5,
   "metadata": {
    "collapsed": true
   },
   "outputs": [],
   "source": [
    "# I would like to blur the background of the image so that the classifier\n",
    "# just learns the thing in the center\n",
    "def blur_radius(image):\n",
    "    return"
   ]
  },
  {
   "cell_type": "code",
   "execution_count": 6,
   "metadata": {
    "collapsed": true
   },
   "outputs": [],
   "source": [
    "# These labels have to match the labels in you photos\n",
    "# To label your photos use this format\n",
    "# name-of-the-image-date-day-month-year_label.png (maybe \n",
    "# the photo name would have '_', so you ya to accomodate\n",
    "# the code for that)\n",
    "# make sure that the photo name has a '_' before the label because that\n",
    "# is a character that the label extractor is looking for\n",
    "class Labels(Enum):\n",
    "    one = 0\n",
    "    two = 1\n",
    "    three = 2\n",
    "    four = 3\n",
    "    classes = 4"
   ]
  },
  {
   "cell_type": "code",
   "execution_count": 7,
   "metadata": {
    "collapsed": true
   },
   "outputs": [],
   "source": [
    "# saving the numpy array as a matrix for debugung purposes \n",
    "def save_array_as_image(array, name, extension):\n",
    "    im = Image.fromarray(np.uint8(array))\n",
    "    im.save(name + \".\" + extension)"
   ]
  },
  {
   "cell_type": "code",
   "execution_count": 8,
   "metadata": {
    "collapsed": true
   },
   "outputs": [],
   "source": [
    "# This function is currently used by the logic to prepare images\n",
    "# to make the training, test, and validation sets\n",
    "def crop(image, new_width, new_height):\n",
    "    width, height, depth = image.shape   # , depth\n",
    "    #new_width = 200\n",
    "    #new_height = 200\n",
    "    \n",
    "    left = (width - new_width)/2\n",
    "    top = (height - new_height)/2\n",
    "    right = (width + new_width)/2\n",
    "    bottom = (height + new_height)/2\n",
    "\n",
    "    \n",
    "    image = image[left:right, top:bottom]\n",
    "    return image"
   ]
  },
  {
   "cell_type": "code",
   "execution_count": 9,
   "metadata": {
    "collapsed": true
   },
   "outputs": [],
   "source": [
    "# This function creates a vector filled with zeros where the entry mapping to the label \n",
    "# is set to one. This is done so that we can have a one hot matrix for labels\n",
    "def make_label_vector(file_path):\n",
    "    file_name = ntpath.basename(file_path)\n",
    "    underscore_index = file_name.find(\"_\", file_name.find(\"_\") + 1) + 1 #file_name.index('_') + 1\n",
    "    point_index = file_name.index('.')\n",
    "    label_name = file_name[underscore_index:point_index]\n",
    "    label_index = Labels[label_name].value\n",
    "    \n",
    "    label_vector = np.zeros((1,Labels.classes.value))\n",
    "    label_vector[0,label_index] = 1 \n",
    "    return label_vector"
   ]
  },
  {
   "cell_type": "code",
   "execution_count": 10,
   "metadata": {
    "collapsed": false
   },
   "outputs": [],
   "source": [
    "# This function processes photos before they are saved as numpy matrixes\n",
    "def randomly_process_image(image, index):\n",
    "    random_number = uniform(-ROTATION_DEGREES,ROTATION_DEGREES)\n",
    "    image = ndimage.rotate(image, random_number)\n",
    "    \n",
    "    # Cropped in java app before going to tensorflow -> tensorflow.recognizeImage(croppedBitmap);\n",
    "    image = crop(image, image.shape[0] * 0.7, image.shape[1] * 0.7)\n",
    "\n",
    "    # Resized in tensorflow c++ library -> tensorflow::Node* resized = tensorflow::ops::ResizeBilinear(...)\n",
    "    image = scipy.misc.imresize(image, (HEIGHT, WIDTH, DEPTH))\n",
    "    \n",
    "    # Mean and std processed after resized -> tensorflow::ops::Div(tensorflow::ops::Sub(...))\n",
    "    means[index] = np.mean(image)\n",
    "    stds[index] = np.std(image)\n",
    "    image = image - means[index]\n",
    "    image = image / stds[index]\n",
    "    \n",
    "    # Showing image for testing purposes\n",
    "    #plt.imshow(image)\n",
    "    #plt.show()\n",
    "    return image"
   ]
  },
  {
   "cell_type": "code",
   "execution_count": 11,
   "metadata": {
    "collapsed": true
   },
   "outputs": [],
   "source": [
    "# Converts a 3d image to a long 1d vector so that all the features can be saved as a \n",
    "# numpy matrix where every row is a different image. Once the numpy matrix is loaded\n",
    "# by the classifier, the classifier knows how to convert this long vector back to\n",
    "# a 3d image\n",
    "def make_features_vector(processed_image):\n",
    "    features_vector = processed_image.reshape((1,HEIGHT*WIDTH*DEPTH))\n",
    "    return features_vector"
   ]
  },
  {
   "cell_type": "code",
   "execution_count": 12,
   "metadata": {
    "collapsed": false
   },
   "outputs": [],
   "source": [
    "# This is the main function. It is given images and returns a matrix of features\n",
    "# and a matrix of one hot encoded labels\n",
    "def images_to_features_and_labels(folder, extension):\n",
    "    FILES_COUNT = len(os.listdir(folder))\n",
    "    TOTAL_IMAGES = FILES_COUNT * IMAGE_GENERATION\n",
    "    global means\n",
    "    global stds\n",
    "    \n",
    "    features_matrix = np.zeros((0,HEIGHT * WIDTH * DEPTH))\n",
    "    labels_matrix = np.zeros((0,Labels.classes.value))\n",
    "    index = 0\n",
    "    means = np.zeros(TOTAL_IMAGES)\n",
    "    stds = np.zeros(TOTAL_IMAGES)\n",
    "    \n",
    "    for file_path in glob.glob(folder + \"/*.\" + extension):\n",
    "        print(file_path)\n",
    "        image = scipy.misc.imread(file_path)\n",
    "        smallest_side = min(image.shape[0], image.shape[1])\n",
    "        image = crop(image, smallest_side, smallest_side)\n",
    "        image = scipy.misc.imresize(image, (500, 500, 3))\n",
    "        \n",
    "        for i in range(IMAGE_GENERATION):\n",
    "            label_vector = make_label_vector(file_path)\n",
    "            processed_image = randomly_process_image(image, index)\n",
    "            features_vector = make_features_vector(processed_image)\n",
    "            features_matrix = np.vstack([features_matrix, features_vector])\n",
    "            labels_matrix = np.vstack([labels_matrix, label_vector])\n",
    "            index = index + 1\n",
    "            \n",
    "    features_matrix, labels_matrix = shuffle(features_matrix, labels_matrix, random_state=0)\n",
    "            \n",
    "    return features_matrix, labels_matrix"
   ]
  },
  {
   "cell_type": "code",
   "execution_count": 13,
   "metadata": {
    "collapsed": true
   },
   "outputs": [],
   "source": [
    "# Save a numpy array to disk\n",
    "def save_matrix_to_disk(folder, name, matrix):\n",
    "    np.save(folder + \"/\" + name, matrix)"
   ]
  },
  {
   "cell_type": "code",
   "execution_count": 14,
   "metadata": {
    "collapsed": false,
    "scrolled": true
   },
   "outputs": [
    {
     "name": "stdout",
     "output_type": "stream",
     "text": [
      "./Images/1_ede_one.jpg\n",
      "./Images/th_sws_four.jpg\n",
      "./Images/thded_ded_four.jpg\n",
      "./Images/th_sese_three.jpg\n",
      "./Images/2_sese_two.jpg\n",
      "./Images/images_ses_three.jpg\n",
      "./Images/th_ese_three.jpg\n",
      "./Images/canstock5937853_sese_two.jpg\n",
      "./Images/th_ssws_three.jpg\n"
     ]
    },
    {
     "name": "stderr",
     "output_type": "stream",
     "text": [
      "/home/isai/anaconda2/lib/python2.7/site-packages/ipykernel/__main__.py:14: VisibleDeprecationWarning: using a non-integer number instead of an integer will result in an error in the future\n"
     ]
    }
   ],
   "source": [
    "# This part converts photos to numpy matrixes(features and labels) \n",
    "# that are then saved to disk\n",
    "features_matrix, labels_matrix = images_to_features_and_labels(\"./Images\", \"jpg\")\n",
    "save_matrix_to_disk(\"./\", \"features\", features_matrix)\n",
    "save_matrix_to_disk(\"./\", \"labels\", labels_matrix)"
   ]
  },
  {
   "cell_type": "code",
   "execution_count": 15,
   "metadata": {
    "collapsed": false
   },
   "outputs": [
    {
     "name": "stdout",
     "output_type": "stream",
     "text": [
      "mean = 81.1283357747\n",
      "std = 42.9628674366\n"
     ]
    }
   ],
   "source": [
    "# These global mean and global standard deviation must be used \n",
    "# in the android or ios tensorflow\n",
    "mean = np.mean(means)\n",
    "std = np.mean(stds)\n",
    "print(\"mean = \" + str(mean))\n",
    "print(\"std = \" + str(std))"
   ]
  },
  {
   "cell_type": "code",
   "execution_count": null,
   "metadata": {
    "collapsed": true
   },
   "outputs": [],
   "source": []
  },
  {
   "cell_type": "code",
   "execution_count": null,
   "metadata": {
    "collapsed": false
   },
   "outputs": [],
   "source": []
  },
  {
   "cell_type": "code",
   "execution_count": null,
   "metadata": {
    "collapsed": true
   },
   "outputs": [],
   "source": []
  }
 ],
 "metadata": {
  "kernelspec": {
   "display_name": "Python 2",
   "language": "python",
   "name": "python2"
  },
  "language_info": {
   "codemirror_mode": {
    "name": "ipython",
    "version": 2
   },
   "file_extension": ".py",
   "mimetype": "text/x-python",
   "name": "python",
   "nbconvert_exporter": "python",
   "pygments_lexer": "ipython2",
   "version": "2.7.12"
  }
 },
 "nbformat": 4,
 "nbformat_minor": 0
}
