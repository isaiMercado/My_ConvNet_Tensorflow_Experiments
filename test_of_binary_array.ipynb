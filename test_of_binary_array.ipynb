{
 "cells": [
  {
   "cell_type": "code",
   "execution_count": 1,
   "metadata": {
    "collapsed": true
   },
   "outputs": [],
   "source": [
    "import scipy\n",
    "import scipy.misc\n",
    "from scipy import ndimage\n",
    "from scipy.misc import toimage\n",
    "import numpy as np\n",
    "\n",
    "import matplotlib.pyplot as plt\n",
    "import matplotlib"
   ]
  },
  {
   "cell_type": "code",
   "execution_count": 2,
   "metadata": {
    "collapsed": true
   },
   "outputs": [],
   "source": [
    "IMAGE_SIZE = 32\n",
    "DEPTH = 3"
   ]
  },
  {
   "cell_type": "code",
   "execution_count": 3,
   "metadata": {
    "collapsed": false
   },
   "outputs": [],
   "source": [
    "def load_matrix_from_disk(folder, name):\n",
    "    matrix = np.load(folder + \"/\" + name + \".npy\")\n",
    "    return matrix\n",
    "\n",
    "loaded_features = load_matrix_from_disk(\"./MY_data\", \"features\")\n",
    "loaded_labels = load_matrix_from_disk(\"./MY_data\", \"labels\")"
   ]
  },
  {
   "cell_type": "code",
   "execution_count": 4,
   "metadata": {
    "collapsed": false
   },
   "outputs": [],
   "source": [
    "name_base = \"imagesTest\"\n",
    "folder = \"./BinaryMatrixVisualization\"\n",
    "for i in range(loaded_features.shape[0]):\n",
    "    image_array = loaded_features[i].reshape((IMAGE_SIZE, IMAGE_SIZE, DEPTH))\n",
    "    #scipy.misc.toimage(image_array).save(folder + \"/\" + name_base + str(i) + \".png\")\n",
    "    plt.imshow(image_array)\n",
    "    plt.savefig(folder + \"/\" + name_base + str(i) + \".png\")"
   ]
  },
  {
   "cell_type": "code",
   "execution_count": null,
   "metadata": {
    "collapsed": true
   },
   "outputs": [],
   "source": []
  }
 ],
 "metadata": {
  "kernelspec": {
   "display_name": "Python 2",
   "language": "python",
   "name": "python2"
  },
  "language_info": {
   "codemirror_mode": {
    "name": "ipython",
    "version": 2
   },
   "file_extension": ".py",
   "mimetype": "text/x-python",
   "name": "python",
   "nbconvert_exporter": "python",
   "pygments_lexer": "ipython2",
   "version": "2.7.12"
  }
 },
 "nbformat": 4,
 "nbformat_minor": 0
}
