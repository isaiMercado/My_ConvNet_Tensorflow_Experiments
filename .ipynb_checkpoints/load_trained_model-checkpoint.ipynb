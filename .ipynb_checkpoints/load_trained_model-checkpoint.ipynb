{
 "cells": [
  {
   "cell_type": "code",
   "execution_count": 1,
   "metadata": {
    "collapsed": false
   },
   "outputs": [],
   "source": [
    "import tensorflow as tf\n",
    "from tensorflow.examples.tutorials.mnist import input_data\n",
    "\n",
    "from sklearn.utils import shuffle\n",
    "\n",
    "import numpy as np\n",
    "import matplotlib.pyplot as plt\n",
    "import matplotlib\n",
    "%matplotlib inline"
   ]
  },
  {
   "cell_type": "code",
   "execution_count": 2,
   "metadata": {
    "collapsed": false
   },
   "outputs": [
    {
     "name": "stdout",
     "output_type": "stream",
     "text": [
      "Extracting MNIST_data/train-images-idx3-ubyte.gz\n",
      "Extracting MNIST_data/train-labels-idx1-ubyte.gz\n",
      "Extracting MNIST_data/t10k-images-idx3-ubyte.gz\n",
      "Extracting MNIST_data/t10k-labels-idx1-ubyte.gz\n"
     ]
    }
   ],
   "source": [
    "mnist = input_data.read_data_sets('MNIST_data', one_hot=True)"
   ]
  },
  {
   "cell_type": "code",
   "execution_count": 24,
   "metadata": {
    "collapsed": false
   },
   "outputs": [],
   "source": [
    "class Dataset(object):\n",
    "    def __init__(self, features, labels):\n",
    "        self.features = features\n",
    "        self.labels = labels\n",
    "        \n",
    "    def get_next_batch(self, batch_size):\n",
    "        self.features, self.labels = shuffle(self.features, self.labels)\n",
    "        return self.features[0:batch_size,:], self.labels[0:batch_size,:]\n",
    "        \n",
    "        \n",
    "class Data(object):\n",
    "    def __init__(self, features, labels):\n",
    "        \n",
    "        partition = features.shape[0] / 4\n",
    "        \n",
    "        train_features = features[0:partition*3,:]\n",
    "        train_labels = labels[0:partition*3,:]\n",
    "        \n",
    "        test_features = features[partition*3:partition*4,:]\n",
    "        test_labels = labels[partition*3:partition*4,:]\n",
    "        \n",
    "        self.train = Dataset(train_features, train_labels)\n",
    "        self.test = Dataset(test_features, test_labels)\n",
    "        \n",
    "\n",
    "def load_matrix_from_disk(folder, name):\n",
    "    matrix = np.load(folder + \"/\" + name + \".npy\")\n",
    "    return matrix\n",
    "\n",
    "loaded_features = load_matrix_from_disk(\"./\", \"features\")\n",
    "loaded_labels = load_matrix_from_disk(\"./\", \"labels\")\n",
    "\n",
    "data = Data(loaded_features, loaded_labels)"
   ]
  },
  {
   "cell_type": "code",
   "execution_count": 26,
   "metadata": {
    "collapsed": false
   },
   "outputs": [
    {
     "data": {
      "image/png": "[encoded data removed]",
      "text/plain": [
       "<matplotlib.figure.Figure at 0x7f71fb289bd0>"
      ]
     },
     "metadata": {},
     "output_type": "display_data"
    }
   ],
   "source": [
    "a, b = data.test.get_next_batch(1)\n",
    "plt.imshow(a.reshape((64,64,3)))\n",
    "plt.show()"
   ]
  },
  {
   "cell_type": "code",
   "execution_count": 13,
   "metadata": {
    "collapsed": false
   },
   "outputs": [],
   "source": [
    "TESTS = 1000\n",
    "\n",
    "# x and y coordinates to plot \n",
    "x_coordinates = np.linspace(0, TESTS, num=TESTS)\n",
    "loss_y_coordinates = np.zeros(TESTS)\n",
    "accuracy_y_coordinates = np.zeros(TESTS)\n",
    "\n",
    "def plot(x, y, limits, title, x_label_name, y_label_name):\n",
    "    plt.close(\"all\")\n",
    "    figure = plt.figure()\n",
    "    figure.clf()\n",
    "    \n",
    "    plt.plot(x, y)\n",
    "    \n",
    "    #plt.axis(limits)\n",
    "    plt.ylabel(y_label_name)\n",
    "    plt.xlabel(x_label_name)\n",
    "\n",
    "    figure.suptitle(title, fontsize=20)\n",
    "    plt.legend(loc='upper right')\n",
    "    \n",
    "    plt.show()\n",
    "    return\n",
    "\n",
    "def scatter(x, y, limits, title, x_label_name, y_label_name):\n",
    "    plt.close(\"all\")\n",
    "    figure = plt.figure()\n",
    "    figure.clf()\n",
    "    \n",
    "    plt.scatter(x, y)\n",
    "    \n",
    "    #plt.axis(limits)\n",
    "    plt.ylabel(y_label_name)\n",
    "    plt.xlabel(x_label_name)\n",
    "\n",
    "    figure.suptitle(title, fontsize=20)\n",
    "    plt.legend(loc='upper right')\n",
    "    \n",
    "    plt.show()\n",
    "    return\n",
    "\n",
    "def plot_cross_entropy():\n",
    "    limits = [0,None,0,5]\n",
    "    plot(x_coordinates, loss_y_coordinates, limits, \"Validation Set Cross Entropy\", \"Validation Images\", \"Entropy\")  \n",
    "    return\n",
    "\n",
    "def plot_accuracy():\n",
    "    limits = [0,None,0,1]\n",
    "    scatter(x_coordinates, accuracy_y_coordinates, limits, \"Validation Set Accuracy\", \"Validation Images\", \"Accuracy\")\n",
    "    return"
   ]
  },
  {
   "cell_type": "code",
   "execution_count": 5,
   "metadata": {
    "collapsed": false
   },
   "outputs": [],
   "source": [
    "trained_graph_path = \"./TrainedModel/trained_graph.pb\"\n",
    "\n",
    "with tf.Graph().as_default() as this_graph:\n",
    "    trained_graph = tf.GraphDef()\n",
    "    with open(trained_graph_path, \"rb\") as f:\n",
    "        trained_graph.ParseFromString(f.read())\n",
    "        tf.import_graph_def(trained_graph, name=\"\")\n",
    "\n",
    "    with tf.Session() as sess:\n",
    "       \n",
    "        for test in range(TESTS):\n",
    "            # MNIST tests\n",
    "            #features = mnist.validation.images[test].reshape((1,784))\n",
    "            #target = mnist.validation.labels[test].reshape((1,10))\n",
    "            \n",
    "            # Mydata tests\n",
    "            features, target = data.test.get_next_batch(1)\n",
    "            features = features.reshape((1,12288))\n",
    "            target = target.reshape((1,4))\n",
    "\n",
    "            predictions_vector = sess.graph.get_tensor_by_name(\"fully_connected_output/output_node:0\")\n",
    "            prediction = sess.run(predictions_vector, feed_dict={\"features_matrix:0\": features})\n",
    "            accuracy = np.argmax(target) == np.argmax(prediction)\n",
    "            accuracy_y_coordinates[test] = accuracy  \n",
    "            \n",
    "        tf.merge_all_summaries()\n",
    "        tf.train.SummaryWriter('./TensorBoard/',graph=this_graph)"
   ]
  },
  {
   "cell_type": "code",
   "execution_count": 6,
   "metadata": {
    "collapsed": false
   },
   "outputs": [
    {
     "name": "stderr",
     "output_type": "stream",
     "text": [
      "/home/isai/anaconda2/lib/python2.7/site-packages/matplotlib/axes/_axes.py:519: UserWarning: No labelled objects found. Use label='...' kwarg on individual plots.\n",
      "  warnings.warn(\"No labelled objects found. \"\n"
     ]
    },
    {
     "data": {
      "image/png": "[encoded data removed]",
      "text/plain": [
       "<matplotlib.figure.Figure at 0x7f7204c8b810>"
      ]
     },
     "metadata": {},
     "output_type": "display_data"
    }
   ],
   "source": [
    "plot_accuracy()"
   ]
  },
  {
   "cell_type": "code",
   "execution_count": 7,
   "metadata": {
    "collapsed": false
   },
   "outputs": [
    {
     "name": "stdout",
     "output_type": "stream",
     "text": [
      "Test Set Mean Accuracy\n",
      "0.0\n"
     ]
    }
   ],
   "source": [
    "mean_accuracy = np.mean(accuracy_y_coordinates)\n",
    "\n",
    "print(\"Test Set Mean Accuracy\")\n",
    "print(mean_accuracy)"
   ]
  },
  {
   "cell_type": "code",
   "execution_count": 8,
   "metadata": {
    "collapsed": true
   },
   "outputs": [],
   "source": [
    "# 200 epochs - 0.218\n",
    "# 500 epochs - "
   ]
  }
 ],
 "metadata": {
  "kernelspec": {
   "display_name": "Python 2",
   "language": "python",
   "name": "python2"
  },
  "language_info": {
   "codemirror_mode": {
    "name": "ipython",
    "version": 2
   },
   "file_extension": ".py",
   "mimetype": "text/x-python",
   "name": "python",
   "nbconvert_exporter": "python",
   "pygments_lexer": "ipython2",
   "version": "2.7.12"
  }
 },
 "nbformat": 4,
 "nbformat_minor": 0
}
