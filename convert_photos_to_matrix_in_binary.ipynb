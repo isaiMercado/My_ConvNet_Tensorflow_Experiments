{
 "cells": [
  {
   "cell_type": "code",
   "execution_count": 1,
   "metadata": {
    "collapsed": true
   },
   "outputs": [],
   "source": [
    "from PIL import Image\n",
    "\n",
    "import tensorflow as tf\n",
    "from random import uniform\n",
    "\n",
    "import numpy as np\n",
    "import matplotlib.pyplot as plt\n",
    "import matplotlib\n",
    "#%matplotlib inline\n",
    "\n",
    "import glob\n",
    "import scipy\n",
    "import scipy.misc\n",
    "from scipy import ndimage\n",
    "from scipy.misc import toimage\n",
    "from enum import Enum\n",
    "from sklearn.utils import shuffle\n",
    "import ntpath\n",
    "\n",
    "np.set_printoptions(threshold=np.inf)"
   ]
  },
  {
   "cell_type": "code",
   "execution_count": 2,
   "metadata": {
    "collapsed": true
   },
   "outputs": [],
   "source": [
    "WIDTH = 32\n",
    "HEIGHT = 32\n",
    "DEPTH = 3"
   ]
  },
  {
   "cell_type": "code",
   "execution_count": 3,
   "metadata": {
    "collapsed": true
   },
   "outputs": [],
   "source": [
    "def sharpen_image(image):\n",
    "    #blurred_image = ndimage.gaussian_filter(image, 2)\n",
    "    #filter_blurred = ndimage.gaussian_filter(blurred_image, 1)\n",
    "    #alpha =0 #30\n",
    "    #sharpened_image = (blurred_image + alpha) * (blurred_image - filter_blurred)\n",
    "    threshold = 25\n",
    "    sharpened_image = image\n",
    "    sharpened_image[sharpened_image > threshold] = 250\n",
    "    sharpened_image[sharpened_image <= threshold] = 0\n",
    "    return sharpened_image"
   ]
  },
  {
   "cell_type": "code",
   "execution_count": 4,
   "metadata": {
    "collapsed": false
   },
   "outputs": [],
   "source": [
    "def gradient_of_image(image):\n",
    "    \n",
    "    # This filten makes edges wider \n",
    "    image = ndimage.gaussian_filter(image, 5)\n",
    "    \n",
    "    # This process makes the background black\n",
    "    image = image - np.mean(image)\n",
    "    image = image / np.std(image)\n",
    "    \n",
    "    # Taking derivatives\n",
    "    dx = ndimage.sobel(image, axis=0)\n",
    "    dy = ndimage.sobel(image, axis=1)\n",
    "    image = np.hypot(dx, dy)\n",
    "    \n",
    "    # For some reason we need to save the image to disk to get a nice picture\n",
    "    scipy.misc.imsave('sobel.jpg', image)\n",
    "    image = scipy.misc.imread(\"sobel.jpg\")\n",
    "    \n",
    "    return image"
   ]
  },
  {
   "cell_type": "code",
   "execution_count": 5,
   "metadata": {
    "collapsed": true
   },
   "outputs": [],
   "source": [
    "class Labels(Enum):\n",
    "    isai = 0\n",
    "    pratt = 1\n",
    "    david = 2\n",
    "    jacob = 3\n",
    "    helenita = 4\n",
    "    classes = 5"
   ]
  },
  {
   "cell_type": "code",
   "execution_count": 6,
   "metadata": {
    "collapsed": true
   },
   "outputs": [],
   "source": [
    "def save_image(image):\n",
    "    image.save(\"image.jpg\")"
   ]
  },
  {
   "cell_type": "code",
   "execution_count": 7,
   "metadata": {
    "collapsed": true
   },
   "outputs": [],
   "source": [
    "def save_array_as_image(array, name, extension):\n",
    "    im = Image.fromarray(np.uint8(array))\n",
    "    im.save(name + \".\" + extension)"
   ]
  },
  {
   "cell_type": "code",
   "execution_count": 8,
   "metadata": {
    "collapsed": true
   },
   "outputs": [],
   "source": [
    "def crop(image):\n",
    "    width, height, depth = image.shape   # Get dimensions\n",
    "    new_width = 550\n",
    "    new_height = 550\n",
    "\n",
    "    left = (width - new_width)/2\n",
    "    top = (height - new_height)/2\n",
    "    right = (width + new_width)/2\n",
    "    bottom = (height + new_height)/2\n",
    "    \n",
    "    lx, ly, lz = image.shape\n",
    "    image = image[left:right, top:bottom]\n",
    "    return image"
   ]
  },
  {
   "cell_type": "code",
   "execution_count": 9,
   "metadata": {
    "collapsed": true
   },
   "outputs": [],
   "source": [
    "def make_label_vector(file_path):\n",
    "    file_name = ntpath.basename(file_path)\n",
    "    underscore_index = file_name.index('_') + 1\n",
    "    point_index = file_name.index('.')\n",
    "    label_name = file_name[underscore_index:point_index]\n",
    "    label_index = Labels[label_name].value\n",
    "    \n",
    "    label_vector = np.zeros((1,Labels.classes.value))\n",
    "    label_vector[0,label_index] = 1 \n",
    "    return label_vector"
   ]
  },
  {
   "cell_type": "code",
   "execution_count": 10,
   "metadata": {
    "collapsed": false
   },
   "outputs": [],
   "source": [
    "def randomly_process_image(image):\n",
    "    random_number = uniform(-20,20)\n",
    "    \n",
    "    # This order works\n",
    "    image = gradient_of_image(image)\n",
    "    image = ndimage.rotate(image, random_number) \n",
    "    image = crop(image)\n",
    "    image = scipy.misc.imresize(image, (HEIGHT, WIDTH, DEPTH))\n",
    "    \n",
    "    # Showing image for testing purposes\n",
    "    #plt.imshow(image)\n",
    "    #plt.show()\n",
    "    return image"
   ]
  },
  {
   "cell_type": "code",
   "execution_count": 11,
   "metadata": {
    "collapsed": true
   },
   "outputs": [],
   "source": [
    "def make_features_vector(processed_image):\n",
    "    features_vector = processed_image.reshape((1,HEIGHT*WIDTH*DEPTH))\n",
    "    return features_vector"
   ]
  },
  {
   "cell_type": "code",
   "execution_count": 12,
   "metadata": {
    "collapsed": false
   },
   "outputs": [],
   "source": [
    "IMAGE_GENERATION = 10\n",
    "\n",
    "def images_to_features_and_labels(folder, extension):\n",
    "\n",
    "    features_matrix = np.zeros((0,HEIGHT * WIDTH * DEPTH))\n",
    "    labels_matrix = np.zeros((0,Labels.classes.value))\n",
    "    \n",
    "    for file_path in glob.glob(folder + \"/*.\" + extension):\n",
    "        print(file_path)\n",
    "        image = scipy.misc.imread(file_path)\n",
    "        \n",
    "        for i in range(IMAGE_GENERATION):\n",
    "            label_vector = make_label_vector(file_path)\n",
    "            processed_image = randomly_process_image(image)\n",
    "            #features_vector = make_features_vector(processed_image)\n",
    "            #features_matrix = np.vstack([features_matrix, features_vector])\n",
    "            #labels_matrix = np.vstack([labels_matrix, label_vector])\n",
    "            \n",
    "    return features_matrix, labels_matrix"
   ]
  },
  {
   "cell_type": "code",
   "execution_count": 13,
   "metadata": {
    "collapsed": true
   },
   "outputs": [],
   "source": [
    "def save_matrix_to_disk(folder, name, matrix):\n",
    "    np.save(folder + \"/\" + name, matrix)"
   ]
  },
  {
   "cell_type": "code",
   "execution_count": 14,
   "metadata": {
    "collapsed": true
   },
   "outputs": [],
   "source": [
    "def load_matrix_from_disk(folder, name):\n",
    "    matrix = np.load(folder + \"/\" + name + \".npy\")\n",
    "    return matrix"
   ]
  },
  {
   "cell_type": "code",
   "execution_count": 15,
   "metadata": {
    "collapsed": true
   },
   "outputs": [],
   "source": [
    "def features_matrix_to_images(features_matrix):\n",
    "    name_base = \"image\"\n",
    "    extension = \"jpg\"\n",
    "    for i in range(features_matrix.shape[0]):\n",
    "        name = name_base + str(i)\n",
    "        row = features_matrix[i]\n",
    "        row = row.reshape((HEIGHT, WIDTH, DEPTH))\n",
    "        save_array_as_image(row, name, extension)"
   ]
  },
  {
   "cell_type": "code",
   "execution_count": 16,
   "metadata": {
    "collapsed": false
   },
   "outputs": [
    {
     "name": "stdout",
     "output_type": "stream",
     "text": [
      "./Images/Faces/2016-09-22-205950 (1)_isai.jpg\n",
      "./Images/Faces/2016-09-22-205726 (1)_david.jpg\n",
      "./Images/Faces/2016-09-22-205821_jacob.jpg\n",
      "./Images/Faces/2016-09-22-205952 (1)_isai.jpg\n",
      "./Images/Faces/2016-09-21-213026_isai.jpg\n",
      "./Images/Faces/2016-09-22-123743 (1)_isai.jpg\n",
      "./Images/Faces/2016-09-22-205926 (1)_helenita.jpg\n",
      "./Images/Faces/2016-09-22-205841_jacob.jpg\n",
      "./Images/Faces/2016-09-22-205851 (1)_helenita.jpg\n",
      "./Images/Faces/2016-09-22-205927 (1)_helenita.jpg\n",
      "./Images/Faces/2016-09-22-205851_helenita.jpg\n",
      "./Images/Faces/2016-09-22-205952_isai.jpg\n",
      "./Images/Faces/2016-09-22-205746 (1)_david.jpg\n",
      "./Images/Faces/2016-09-21-213020_isai.jpg\n",
      "./Images/Faces/2016-09-22-205740_david.jpg\n",
      "./Images/Faces/2016-09-22-205956_isai.jpg\n",
      "./Images/Faces/2016-09-22-205927 (2)_helenita.jpg\n",
      "./Images/Faces/2016-09-22-123735 (1)_pratt.jpg\n",
      "./Images/Faces/2016-09-22-205741_david.jpg\n",
      "./Images/Faces/2016-09-22-205831_jacob.jpg\n",
      "./Images/Faces/2016-09-22-205756_david.jpg\n",
      "./Images/Faces/2016-09-22-205950_isai.jpg\n",
      "./Images/Faces/2016-09-22-205737_david.jpg\n",
      "./Images/Faces/2016-09-22-205951_isai.jpg\n",
      "./Images/Faces/2016-09-22-123745_isai.jpg\n",
      "./Images/Faces/2016-09-22-205915 (1)_helenita.jpg\n",
      "./Images/Faces/2016-09-22-205958 (1)_isai.jpg\n",
      "./Images/Faces/2016-09-22-205925 (1)_helenita.jpg\n",
      "./Images/Faces/2016-09-22-205814_jacob.jpg\n",
      "./Images/Faces/2016-09-22-205834 (1)_jacob.jpg\n",
      "./Images/Faces/2016-09-22-205748_david.jpg\n",
      "./Images/Faces/2016-09-21-213053_isai.jpg\n",
      "./Images/Faces/2016-09-22-205836 (1)_jacob.jpg\n",
      "./Images/Faces/2016-09-22-205834_jacob.jpg\n",
      "./Images/Faces/2016-09-22-123733_pratt.jpg\n",
      "./Images/Faces/2016-09-22-123744 (2)_isai.jpg\n",
      "./Images/Faces/2016-09-22-205835_jacob.jpg\n",
      "./Images/Faces/2016-09-22-205836 (2)_jacob.jpg\n",
      "./Images/Faces/2016-09-22-123735_pratt.jpg\n",
      "./Images/Faces/2016-09-22-205819_jacob.jpg\n",
      "./Images/Faces/2016-09-22-205922 (1)_helenita.jpg\n",
      "./Images/Faces/2016-09-22-205835 (1)_jacob.jpg\n",
      "./Images/Faces/2016-09-22-205830_jacob.jpg\n",
      "./Images/Faces/2016-09-22-205925_helenita.jpg\n",
      "./Images/Faces/2016-09-22-205833 (1)_jacob.jpg\n",
      "./Images/Faces/2016-09-22-205852 (1)_helenita.jpg\n",
      "./Images/Faces/2016-09-22-205727_david.jpg\n",
      "./Images/Faces/2016-09-22-205924_helenita.jpg\n",
      "./Images/Faces/2016-09-22-123740_isai.jpg\n",
      "./Images/Faces/2016-09-22-205941_helenita.jpg\n",
      "./Images/Faces/2016-09-22-205813_jacob.jpg\n",
      "./Images/Faces/2016-09-22-205852_helenita.jpg\n",
      "./Images/Faces/2016-09-22-205833_jacob.jpg\n",
      "./Images/Faces/2016-09-22-205730_david.jpg\n",
      "./Images/Faces/2016-09-22-205940 (1)_helenita.jpg\n",
      "./Images/Faces/2016-09-22-123734 (1)_pratt.jpg\n",
      "./Images/Faces/2016-09-22-205736_david.jpg\n",
      "./Images/Faces/2016-09-22-123732_pratt.jpg\n",
      "./Images/Faces/2016-09-22-205915_helenita.jpg\n",
      "./Images/Faces/2016-09-22-123730_pratt.jpg\n",
      "./Images/Faces/2016-09-22-205742_david.jpg\n",
      "./Images/Faces/2016-09-22-123744_isai.jpg\n",
      "./Images/Faces/2016-09-22-205926_helenita.jpg\n",
      "./Images/Faces/2016-09-22-205747_david.jpg\n",
      "./Images/Faces/2016-09-22-205743_david.jpg\n",
      "./Images/Faces/2016-09-22-205754_david.jpg\n",
      "./Images/Faces/2016-09-22-205930_helenita.jpg\n",
      "./Images/Faces/2016-09-22-205806_jacob.jpg\n",
      "./Images/Faces/2016-09-22-205820_jacob.jpg\n",
      "./Images/Faces/2016-09-22-123741 (1)_isai.jpg\n",
      "./Images/Faces/2016-09-22-205957_isai.jpg\n",
      "./Images/Faces/2016-09-22-205924 (2)_helenita.jpg\n",
      "./Images/Faces/2016-09-22-205923 (2)_helenita.jpg\n",
      "./Images/Faces/2016-09-22-123741_isai.jpg\n",
      "./Images/Faces/2016-09-22-123734_pratt.jpg\n",
      "./Images/Faces/2016-09-22-205807_jacob.jpg\n",
      "./Images/Faces/2016-09-21-213048_isai.jpg\n",
      "./Images/Faces/2016-09-22-205942 (1)_helenita.jpg\n",
      "./Images/Faces/2016-09-22-205948_isai.jpg\n",
      "./Images/Faces/2016-09-22-205726_david.jpg\n",
      "./Images/Faces/2016-09-22-205955 (1)_isai.jpg\n",
      "./Images/Faces/2016-09-22-205804_jacob.jpg\n",
      "./Images/Faces/2016-09-22-205734_david.jpg\n",
      "./Images/Faces/2016-09-22-123742 (1)_isai.jpg\n",
      "./Images/Faces/2016-09-22-123743_isai.jpg\n",
      "./Images/Faces/2016-09-22-205959_isai.jpg\n",
      "./Images/Faces/2016-09-22-205955_isai.jpg\n",
      "./Images/Faces/2016-09-22-205956 (1)_isai.jpg\n",
      "./Images/Faces/2016-09-22-205921 (1)_helenita.jpg\n",
      "./Images/Faces/2016-09-22-205924 (1)_helenita.jpg\n",
      "./Images/Faces/2016-09-22-205959 (1)_isai.jpg\n",
      "./Images/Faces/2016-09-22-205756 (1)_david.jpg\n",
      "./Images/Faces/2016-09-22-205807 (1)_jacob.jpg\n",
      "./Images/Faces/2016-09-22-205819 (1)_jacob.jpg\n",
      "./Images/Faces/2016-09-22-205814 (1)_jacob.jpg\n",
      "./Images/Faces/2016-09-22-205942_helenita.jpg\n",
      "./Images/Faces/2016-09-22-205741 (1)_david.jpg\n",
      "./Images/Faces/2016-09-22-123742_isai.jpg\n",
      "./Images/Faces/2016-09-22-205822_jacob.jpg\n",
      "./Images/Faces/2016-09-22-205735_david.jpg\n",
      "./Images/Faces/2016-09-22-205836_jacob.jpg\n",
      "./Images/Faces/2016-09-22-123731_pratt.jpg\n",
      "./Images/Faces/2016-09-22-205958_isai.jpg\n",
      "./Images/Faces/2016-09-22-205949 (1)_isai.jpg\n",
      "./Images/Faces/2016-09-22-205921_helenita.jpg\n",
      "./Images/Faces/2016-09-22-205755 (1)_david.jpg\n",
      "./Images/Faces/2016-09-21-213050_isai.jpg\n",
      "./Images/Faces/2016-09-22-205730 (1)_david.jpg\n",
      "./Images/Faces/2016-09-22-205923_helenita.jpg\n",
      "./Images/Faces/2016-09-22-205940_helenita.jpg\n",
      "./Images/Faces/2016-09-22-205949 (2)_isai.jpg\n",
      "./Images/Faces/2016-09-22-205832 (1)_jacob.jpg\n",
      "./Images/Faces/2016-09-22-205923 (1)_helenita.jpg\n",
      "./Images/Faces/2016-09-22-205733_david.jpg\n",
      "./Images/Faces/2016-09-22-205729_david.jpg\n",
      "./Images/Faces/2016-09-22-123731 (1)_pratt.jpg\n",
      "./Images/Faces/2016-09-22-205832_jacob.jpg\n",
      "./Images/Faces/2016-09-22-205805 (1)_jacob.jpg\n",
      "./Images/Faces/2016-09-22-205805_jacob.jpg\n",
      "./Images/Faces/2016-09-22-205731 (1)_david.jpg\n",
      "./Images/Faces/2016-09-22-123744 (1)_isai.jpg\n",
      "./Images/Faces/2016-09-22-205922_helenita.jpg\n",
      "./Images/Faces/2016-09-22-205806 (1)_jacob.jpg\n",
      "./Images/Faces/2016-09-22-205728_david.jpg\n",
      "./Images/Faces/2016-09-22-205831 (1)_jacob.jpg\n",
      "./Images/Faces/2016-09-22-205949_isai.jpg\n",
      "./Images/Faces/2016-09-22-205927_helenita.jpg\n",
      "./Images/Faces/2016-09-22-205916_helenita.jpg\n",
      "./Images/Faces/2016-09-22-205823_jacob.jpg\n",
      "./Images/Faces/2016-09-22-205755_david.jpg\n",
      "./Images/Faces/2016-09-22-205841 (1)_jacob.jpg\n",
      "./Images/Faces/2016-09-22-205817_jacob.jpg\n",
      "./Images/Faces/2016-09-22-205939_helenita.jpg\n",
      "./Images/Faces/2016-09-22-205816_jacob.jpg\n",
      "./Images/Faces/2016-09-22-205820 (1)_jacob.jpg\n",
      "./Images/Faces/2016-09-22-205731_david.jpg\n",
      "./Images/Faces/2016-09-22-205922 (2)_helenita.jpg\n",
      "./Images/Faces/2016-09-22-205746_david.jpg\n",
      "./Images/Faces/2016-09-22-205831 (2)_jacob.jpg\n",
      "./Images/Faces/2016-09-22-205853_helenita.jpg\n",
      "./Images/Faces/2016-09-21-213051_isai.jpg\n",
      "./Images/Faces/2016-09-22-205812_jacob.jpg\n",
      "./Images/Faces/2016-09-22-205951 (1)_isai.jpg\n"
     ]
    }
   ],
   "source": [
    "features_matrix, labels_matrix = images_to_features_and_labels(\"./Images/Faces\", \"jpg\")\n",
    "save_matrix_to_disk(\"./\", \"features\", features_matrix)\n",
    "save_matrix_to_disk(\"./\", \"labels\", labels_matrix)"
   ]
  },
  {
   "cell_type": "code",
   "execution_count": null,
   "metadata": {
    "collapsed": true
   },
   "outputs": [],
   "source": []
  },
  {
   "cell_type": "code",
   "execution_count": null,
   "metadata": {
    "collapsed": true
   },
   "outputs": [],
   "source": []
  },
  {
   "cell_type": "code",
   "execution_count": null,
   "metadata": {
    "collapsed": true
   },
   "outputs": [],
   "source": []
  }
 ],
 "metadata": {
  "kernelspec": {
   "display_name": "Python 2",
   "language": "python",
   "name": "python2"
  },
  "language_info": {
   "codemirror_mode": {
    "name": "ipython",
    "version": 2
   },
   "file_extension": ".py",
   "mimetype": "text/x-python",
   "name": "python",
   "nbconvert_exporter": "python",
   "pygments_lexer": "ipython2",
   "version": "2.7.12"
  }
 },
 "nbformat": 4,
 "nbformat_minor": 0
}
