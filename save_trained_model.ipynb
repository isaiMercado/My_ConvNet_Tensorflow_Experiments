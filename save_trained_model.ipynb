{
 "cells": [
  {
   "cell_type": "code",
   "execution_count": 1,
   "metadata": {
    "collapsed": false
   },
   "outputs": [],
   "source": [
    "import sys\n",
    "sys.path.insert(0, './Libs')\n",
    "from freeze_graph import freeze_graph\n",
    "\n",
    "import tensorflow as tf\n",
    "from tensorflow.examples.tutorials.mnist import input_data\n",
    "from PIL import Image\n",
    "\n",
    "import numpy as np\n",
    "import matplotlib.pyplot as plt\n",
    "import matplotlib\n",
    "%matplotlib inline\n",
    "\n",
    "import glob\n",
    "import scipy\n",
    "import scipy.misc\n",
    "from scipy import ndimage\n",
    "from scipy.misc import toimage\n",
    "from enum import Enum\n",
    "from sklearn.utils import shuffle\n",
    "import ntpath"
   ]
  },
  {
   "cell_type": "code",
   "execution_count": null,
   "metadata": {
    "collapsed": true
   },
   "outputs": [],
   "source": [
    "class Dataset(object):\n",
    "    def __init__(self, features, labels):\n",
    "        self.features = features\n",
    "        self.labels = labels\n",
    "        \n",
    "        \n",
    "class Data(object):\n",
    "    def __init__(self, features, labels):\n",
    "        features, labels = shuffle(features, labels, random_state=0)\n",
    "        \n",
    "        partition = features.shape[0] / 4\n",
    "        \n",
    "        train_features = features[0:partition*3,:]\n",
    "        train_labels = labels[0:partition*3,:]\n",
    "        \n",
    "        test_features = features[partition*3:partition*4,:]\n",
    "        test_labels = labels[partition*3:partition*4,:]\n",
    "        \n",
    "        self.train = Dataset(train_features, train_labels)\n",
    "        self.test = Dataset(test_features, test_labels)"
   ]
  },
  {
   "cell_type": "code",
   "execution_count": null,
   "metadata": {
    "collapsed": true
   },
   "outputs": [],
   "source": [
    "def load_matrix_from_disk(folder, name):\n",
    "    matrix = np.load(folder + \"/\" + name + \".npy\")\n",
    "    return matrix"
   ]
  },
  {
   "cell_type": "code",
   "execution_count": 7,
   "metadata": {
    "collapsed": false
   },
   "outputs": [],
   "source": [
    "loaded_features = load_matrix_from_disk(\"./\", \"features\")\n",
    "loaded_labels = load_matrix_from_disk(\"./\", \"labels\")\n",
    "\n",
    "data = Data(loaded_features, loaded_labels)"
   ]
  },
  {
   "cell_type": "code",
   "execution_count": 8,
   "metadata": {
    "collapsed": false
   },
   "outputs": [],
   "source": [
    "EPOCHS = 1000\n",
    "LEARNING_RATE = 0.4\n",
    "\n",
    "# x and y coordinates to plot \n",
    "x_coordinates = np.linspace(0, EPOCHS, num=EPOCHS)\n",
    "loss_y_coordinates = np.zeros(EPOCHS)\n",
    "accuracy_y_coordinates = np.zeros(EPOCHS)\n",
    "\n",
    "def plot(x, y, limits, title, x_label_name, y_label_name):\n",
    "    plt.close(\"all\")\n",
    "    figure = plt.figure()\n",
    "    figure.clf()\n",
    "    \n",
    "    plt.plot(x, y)\n",
    "    \n",
    "    #plt.axis(limits)\n",
    "    plt.ylabel(y_label_name)\n",
    "    plt.xlabel(x_label_name)\n",
    "\n",
    "    figure.suptitle(title, fontsize=20)\n",
    "    plt.legend(loc='upper right')\n",
    "    \n",
    "    plt.show()\n",
    "    return\n",
    "\n",
    "def plot_loss():\n",
    "    limits = [0,EPOCHS,0,5]\n",
    "    plot(x_coordinates, loss_y_coordinates, limits, \"Training Loss Overtime\", \"Epochs\", \"Loss\")  \n",
    "    return\n",
    "\n",
    "def plot_accuracy():\n",
    "    limits = [0,EPOCHS,0,1]\n",
    "    plot(x_coordinates, accuracy_y_coordinates, limits, \"Test Set Accuracy Overtime\", \"Epochs\", \"Accuracy\")\n",
    "    return"
   ]
  },
  {
   "cell_type": "code",
   "execution_count": 9,
   "metadata": {
    "collapsed": true
   },
   "outputs": [],
   "source": [
    "# Defining some functions that make the defining graph code look cleaner\n",
    "\n",
    "def weight_variable(shape,name):\n",
    "    gaussian_matrix = tf.truncated_normal(shape, stddev=0.1)\n",
    "    weight_matrix = tf.Variable(gaussian_matrix, name=name)\n",
    "    return weight_matrix\n",
    "\n",
    "def bias_variable(shape,name):\n",
    "    gaussian_vector = tf.truncated_normal(shape, stddev=0.1)\n",
    "    bias_vector = tf.Variable(gaussian_vector, name=name)\n",
    "    return bias_vector\n",
    "\n",
    "def convolution(images_matrix, weight_matrix):\n",
    "    # [batch, height, width, depth]\n",
    "    strides = [1,1,1,1]\n",
    "    convoluted_images_matrix = tf.nn.conv2d(images_matrix, weight_matrix, strides=strides, padding='SAME')\n",
    "    return convoluted_images_matrix\n",
    "\n",
    "def max_pool_2x2(images_matrix):\n",
    "    # [batch, height, width, depth]\n",
    "    strides = [1,2,2,1]\n",
    "    ksize = [1,2,2,1] #[1,2,2,1]\n",
    "    smaller_images_matrix = tf.nn.max_pool(images_matrix, ksize=ksize, strides=strides, padding='SAME')\n",
    "    return smaller_images_matrix"
   ]
  },
  {
   "cell_type": "code",
   "execution_count": 10,
   "metadata": {
    "collapsed": false
   },
   "outputs": [],
   "source": [
    "# Defining the graph (In this case it is convolutional neural network)\n",
    "\n",
    "# inputs\n",
    "targets_matrix = tf.placeholder(tf.float32, shape=[None, Labels.classes.value], name=\"targets_matrix\")\n",
    "features_matrix = tf.placeholder(tf.float32, shape=[None, 12288], name='features_matrix')\n",
    "\n",
    "# reshaping images as grids instead of vectors for convolution\n",
    "images_matrix = tf.reshape(features_matrix, [-1, 64, 64, 3], name=\"input_node\") # -1, 28, 28, 1\n",
    "\n",
    "\n",
    "\n",
    "with tf.name_scope('convolutional1') as scope:\n",
    "    # hidden inputs\n",
    "    weight_matrix_conv1 = weight_variable([5, 5, 3, 32],name=\"weight_matrix_conv1\")\n",
    "    bias_vector_conv1 = bias_variable([32], name=\"bias_vector_conv1\")\n",
    "\n",
    "    # linear operation\n",
    "    linear_convoluted_matrix_conv1 = convolution(images_matrix, weight_matrix_conv1) + bias_vector_conv1\n",
    "\n",
    "    # nonlinear operation\n",
    "    nonlinear_convoluted_matrix_conv1 = tf.nn.relu(linear_convoluted_matrix_conv1)\n",
    "\n",
    "    # making output smaller\n",
    "    smaller_matrix_conv1 = max_pool_2x2(nonlinear_convoluted_matrix_conv1)\n",
    "\n",
    "\n",
    "\n",
    "with tf.name_scope('convolutional2') as scope:\n",
    "    # hidden inputs\n",
    "    weight_matrix_conv2 = weight_variable([5, 5, 32, 64], name=\"weight_matrix_conv2\")\n",
    "    bias_vector_conv2 = bias_variable([64], name=\"bias_vector_conv2\")\n",
    "\n",
    "    # linear operation\n",
    "    linear_convoluted_matrix_conv2 = convolution(smaller_matrix_conv1, weight_matrix_conv2) + bias_vector_conv2\n",
    "\n",
    "    # nonlinear operation\n",
    "    nonlinear_convoluted_matrix_conv2 = tf.nn.relu(linear_convoluted_matrix_conv2)\n",
    "\n",
    "    # making output smaller\n",
    "    smaller_matrix_conv2 = max_pool_2x2(nonlinear_convoluted_matrix_conv2)\n",
    "\n",
    "    # making output flat for fully connected layer\n",
    "    smaller_matrix_conv2_flat = tf.reshape(smaller_matrix_conv2, [-1, 16*16*64]) #[-1, 7*7*64]\n",
    "\n",
    "\n",
    "\n",
    "with tf.name_scope('fully_connected_hidden1') as scope:\n",
    "    # hidden inputs\n",
    "    weight_matrix_fc1 = weight_variable([16 * 16 * 64, 1024], name=\"weight_matrix_fc1\")\n",
    "    bias_vector_fc1 = bias_variable([1024], name=\"bias_vector_fc1\")\n",
    "\n",
    "    # linear operation\n",
    "    linear_hidden_matrix_fc1 = tf.matmul(smaller_matrix_conv2_flat, weight_matrix_fc1) + bias_vector_fc1\n",
    "\n",
    "    # nonlinear operation\n",
    "    nonlinear_hidden_matrix_fc1 = tf.nn.relu(linear_hidden_matrix_fc1)\n",
    "\n",
    "\n",
    "\n",
    "with tf.name_scope('fully_connected_output') as scope:\n",
    "    # hidden inputs\n",
    "    weight_matrix_fc2 = weight_variable([1024, 5], name=\"weight_matrix_fc2\")\n",
    "    bias_vector_fc2 = bias_variable([5], name=\"bias_vector_fc2\")\n",
    "\n",
    "    # linear operation\n",
    "    output_matrix_fc2 = tf.matmul(nonlinear_hidden_matrix_fc1, weight_matrix_fc2) + bias_vector_fc2\n",
    "\n",
    "    # making output probabilities\n",
    "    probabilities_matrix = tf.nn.softmax(output_matrix_fc2, name = \"output_node\")\n",
    "\n",
    "\n",
    "cross_entropy = tf.reduce_mean(-tf.reduce_sum(targets_matrix * tf.log(probabilities_matrix), reduction_indices=[1]))\n",
    "train_step = tf.train.AdamOptimizer(1e-4).minimize(cross_entropy)\n",
    "\n",
    "correct_prediction = tf.equal(tf.argmax(probabilities_matrix,1), tf.argmax(targets_matrix,1))\n",
    "\n",
    "accuracy = tf.reduce_mean(tf.cast(correct_prediction, tf.float32))"
   ]
  },
  {
   "cell_type": "code",
   "execution_count": null,
   "metadata": {
    "collapsed": false
   },
   "outputs": [],
   "source": [
    "sess = tf.Session()\n",
    "sess.run(tf.initialize_all_variables())\n",
    "summaries = tf.merge_all_summaries()\n",
    "summary_writer = tf.train.SummaryWriter('./TensorBoard',graph=sess.graph)"
   ]
  },
  {
   "cell_type": "code",
   "execution_count": null,
   "metadata": {
    "collapsed": false
   },
   "outputs": [],
   "source": [
    "# Initializing session and graph\n",
    "STEPS_SIZE = 10\n",
    "\n",
    "\n",
    "# Training the convolutional neural network\n",
    "step = 0\n",
    "\n",
    "for epoch in range(EPOCHS):\n",
    "    features = data.train.features\n",
    "    labels = data.train.labels\n",
    "    features, labels = shuffle(features, labels, random_state=0)\n",
    "    \n",
    "    sess.run(train_step, feed_dict={features_matrix: features, targets_matrix: labels})\n",
    "    \n",
    "    if epoch % STEPS_SIZE == 0:\n",
    "        \n",
    "        l_scalar = sess.run(cross_entropy, feed_dict={features_matrix:features, targets_matrix: labels})\n",
    "        a_scalar = sess.run(accuracy, feed_dict={features_matrix:features, targets_matrix: labels})\n",
    "        \n",
    "        loss_y_coordinates[step] = l_scalar\n",
    "        accuracy_y_coordinates[step] = a_scalar\n",
    "        step = step + 1"
   ]
  },
  {
   "cell_type": "code",
   "execution_count": null,
   "metadata": {
    "collapsed": false
   },
   "outputs": [],
   "source": [
    "plot_accuracy()"
   ]
  },
  {
   "cell_type": "code",
   "execution_count": null,
   "metadata": {
    "collapsed": false
   },
   "outputs": [],
   "source": [
    "mean_accuracy = np.mean(accuracy_y_coordinates)\n",
    "print(\"Test Set Mean Accuracy\")\n",
    "print(mean_accuracy)"
   ]
  },
  {
   "cell_type": "code",
   "execution_count": null,
   "metadata": {
    "collapsed": true
   },
   "outputs": [],
   "source": [
    "path = \"./TrainedModel/\"\n",
    "checkpoint_weights_filename = \"weights\"\n",
    "checkpoint_graph_filename = \"graph.pb\"\n",
    "trained_graph_filename = \"trained_graph.pb\"\n",
    "\n",
    "checkpoint_weights_path = path + checkpoint_weights_filename\n",
    "checkpoint_graph_path = path + checkpoint_graph_filename\n",
    "trained_graph_path = path + trained_graph_filename\n",
    "saver_path = \"\"\n",
    "\n",
    "as_text = True\n",
    "as_binary = not as_text\n",
    "\n",
    "# Saving learned weights of the model\n",
    "tf.train.Saver().save(sess, checkpoint_weights_path) #, global_step=0, latest_filename=\"checkpoint_name\")\n",
    "\n",
    "# Saving graph definition\n",
    "tf.train.write_graph(sess.graph.as_graph_def(), path, checkpoint_graph_filename, as_text)\n",
    "\n",
    "# Merging graph definition and learned weights into a trained graph\n",
    "input_saver_path = \"\"\n",
    "input_binary = False\n",
    "output_node_names = \"output_node\"\n",
    "restore_op_name = \"save/restore_all\"\n",
    "filename_tensor_name = \"save/Const:0\"\n",
    "clear_devices = False\n",
    "\n",
    "freeze_graph (\n",
    "    input_graph = checkpoint_graph_path,\n",
    "    input_saver = saver_path,\n",
    "    input_checkpoint = checkpoint_weights_path,\n",
    "    output_graph = trained_graph_path,\n",
    "    \n",
    "    initializer_nodes = None, #\"input_node\",\n",
    "    output_node_names = \"fully_connected_output/output_node\",\n",
    "    \n",
    "    restore_op_name = \"save/restore_all\",\n",
    "    filename_tensor_name = \"save/Const:0\",\n",
    "    \n",
    "    input_binary = as_binary,\n",
    "    clear_devices = True\n",
    ")"
   ]
  }
 ],
 "metadata": {
  "kernelspec": {
   "display_name": "Python 2",
   "language": "python",
   "name": "python2"
  },
  "language_info": {
   "codemirror_mode": {
    "name": "ipython",
    "version": 2
   },
   "file_extension": ".py",
   "mimetype": "text/x-python",
   "name": "python",
   "nbconvert_exporter": "python",
   "pygments_lexer": "ipython2",
   "version": "2.7.12"
  }
 },
 "nbformat": 4,
 "nbformat_minor": 0
}
